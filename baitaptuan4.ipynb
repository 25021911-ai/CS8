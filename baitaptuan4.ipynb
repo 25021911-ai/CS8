{
 "cells": [
  {
   "cell_type": "code",
   "execution_count": null,
   "id": "a702baf0",
   "metadata": {},
   "outputs": [],
   "source": [
    "#W4A1\n",
    "n=int(input())\n",
    "sum=0\n",
    "for i in range (1,n+1):\n",
    "    sum=i+sum\n",
    "print(sum)"
   ]
  },
  {
   "cell_type": "code",
   "execution_count": null,
   "id": "00b3dc1c",
   "metadata": {},
   "outputs": [
    {
     "name": "stdout",
     "output_type": "stream",
     "text": [
      "False\n"
     ]
    }
   ],
   "source": [
    "#W4A2\n",
    "n=int(input())\n",
    "count=0\n",
    "for i in range (1,n+1):\n",
    "    if n%i==0:\n",
    "        count=count+1\n",
    "if count==2:\n",
    "    print('True')\n",
    "else:\n",
    "    print('False')\n"
   ]
  },
  {
   "cell_type": "code",
   "execution_count": null,
   "id": "b6945f16",
   "metadata": {},
   "outputs": [
    {
     "name": "stdout",
     "output_type": "stream",
     "text": [
      "120\n"
     ]
    }
   ],
   "source": [
    "#W4A3\n",
    "n=int(input())\n",
    "factorial=1\n",
    "for i in range (1,n+1):\n",
    "    factorial=factorial*i\n",
    "print(factorial)"
   ]
  },
  {
   "cell_type": "code",
   "execution_count": null,
   "id": "794365d1",
   "metadata": {},
   "outputs": [
    {
     "name": "stdout",
     "output_type": "stream",
     "text": [
      "4\n"
     ]
    }
   ],
   "source": [
    "#W4A4\n",
    "n=int(input())\n",
    "count=0\n",
    "if n<0:\n",
    "    n=-n\n",
    "elif n==0:\n",
    "    count=1\n",
    "while n>0:\n",
    "    n=n//10\n",
    "    count=count+1\n",
    "print(count)\n",
    "\n",
    "\n"
   ]
  },
  {
   "cell_type": "code",
   "execution_count": null,
   "id": "6fdf89d8",
   "metadata": {},
   "outputs": [
    {
     "ename": "ValueError",
     "evalue": "invalid literal for int() with base 10: '2 10'",
     "output_type": "error",
     "traceback": [
      "\u001b[31m---------------------------------------------------------------------------\u001b[39m",
      "\u001b[31mValueError\u001b[39m                                Traceback (most recent call last)",
      "\u001b[36mCell\u001b[39m\u001b[36m \u001b[39m\u001b[32mIn[51]\u001b[39m\u001b[32m, line 3\u001b[39m\n\u001b[32m      1\u001b[39m \u001b[38;5;66;03m#W4A5\u001b[39;00m\n\u001b[32m      2\u001b[39m lst=[]\n\u001b[32m----> \u001b[39m\u001b[32m3\u001b[39m n=\u001b[38;5;28;43mint\u001b[39;49m\u001b[43m(\u001b[49m\u001b[38;5;28;43minput\u001b[39;49m\u001b[43m(\u001b[49m\u001b[43m)\u001b[49m\u001b[43m)\u001b[49m\n\u001b[32m      4\u001b[39m \u001b[38;5;28;01mfor\u001b[39;00m i \u001b[38;5;129;01min\u001b[39;00m \u001b[38;5;28mrange\u001b[39m (\u001b[32m1\u001b[39m,n+\u001b[32m1\u001b[39m):\n\u001b[32m      5\u001b[39m     a=\u001b[38;5;28mint\u001b[39m(\u001b[38;5;28minput\u001b[39m(\u001b[33mf\u001b[39m\u001b[33m\"\u001b[39m\u001b[33mNhập số thứ \u001b[39m\u001b[38;5;132;01m{\u001b[39;00mi+\u001b[32m1\u001b[39m\u001b[38;5;132;01m}\u001b[39;00m\u001b[33m:\u001b[39m\u001b[33m\"\u001b[39m))\n",
      "\u001b[31mValueError\u001b[39m: invalid literal for int() with base 10: '2 10'"
     ]
    }
   ],
   "source": [
    "#W4A5\n",
    "lst=[]\n",
    "n=int(input())\n",
    "for i in range (1,n+1):\n",
    "    a=int(input(f\"Nhập số thứ {i+1}:\"))\n",
    "    lst.append(a)\n",
    "if 42 in lst:\n",
    "    print(\"I've found the meaning of life!\")\n",
    "else:\n",
    "    print(\"It's a joke!\")\n",
    "\n"
   ]
  },
  {
   "cell_type": "code",
   "execution_count": 13,
   "id": "637e0e4d",
   "metadata": {},
   "outputs": [
    {
     "name": "stdout",
     "output_type": "stream",
     "text": [
      "0\n"
     ]
    }
   ],
   "source": [
    "#W4A6\n",
    "a, b= map(int, input().split())\n",
    "while a>b:\n",
    "    a, b= map(int, input('Nhập lại hai số a,b:').split())\n",
    "sum=0\n",
    "for i in range (a, b+1):\n",
    "    count=0\n",
    "    for k in range (1, i+1):\n",
    "        if i%k==0:\n",
    "            count=count+1\n",
    "    if count==2:\n",
    "        sum=sum+i\n",
    "print(sum)"
   ]
  },
  {
   "cell_type": "code",
   "execution_count": null,
   "id": "f977bd3f",
   "metadata": {},
   "outputs": [
    {
     "ename": "ValueError",
     "evalue": "invalid literal for int() with base 10: '.'",
     "output_type": "error",
     "traceback": [
      "\u001b[31m---------------------------------------------------------------------------\u001b[39m",
      "\u001b[31mValueError\u001b[39m                                Traceback (most recent call last)",
      "\u001b[36mCell\u001b[39m\u001b[36m \u001b[39m\u001b[32mIn[5]\u001b[39m\u001b[32m, line 2\u001b[39m\n\u001b[32m      1\u001b[39m \u001b[38;5;66;03m#W4A7\u001b[39;00m\n\u001b[32m----> \u001b[39m\u001b[32m2\u001b[39m n=\u001b[38;5;28;43mint\u001b[39;49m\u001b[43m(\u001b[49m\u001b[38;5;28;43minput\u001b[39;49m\u001b[43m(\u001b[49m\u001b[43m)\u001b[49m\u001b[43m)\u001b[49m\n\u001b[32m      3\u001b[39m \u001b[38;5;28;01mwhile\u001b[39;00m n<\u001b[32m2\u001b[39m:\n\u001b[32m      4\u001b[39m     n=\u001b[38;5;28mint\u001b[39m(\u001b[38;5;28minput\u001b[39m(\u001b[33m'\u001b[39m\u001b[33mNhập lại n:\u001b[39m\u001b[33m'\u001b[39m))\n",
      "\u001b[31mValueError\u001b[39m: invalid literal for int() with base 10: '.'"
     ]
    }
   ],
   "source": [
    "#W4A7\n",
    "n=int(input())\n",
    "while n<2:\n",
    "    n=int(input('Nhập lại n:'))\n",
    "lst=[]\n",
    "for i in range(1, n+1):\n",
    "    if n%i==0:\n",
    "        count=0\n",
    "        for k in range (1, i+1):\n",
    "            if i%k==0:\n",
    "                count=count+1\n",
    "        if count==2:\n",
    "            lst.append(i)\n",
    "u=max(lst)\n",
    "print(u)\n",
    "\n",
    "                \n"
   ]
  },
  {
   "cell_type": "code",
   "execution_count": null,
   "id": "6f251a04",
   "metadata": {},
   "outputs": [
    {
     "name": "stdout",
     "output_type": "stream",
     "text": [
      "1,11\n"
     ]
    }
   ],
   "source": [
    "#W4A8\n",
    "n=int(input())\n",
    "count=0\n",
    "while str(n)!=str(n)[::-1]:\n",
    "    n=n+int(str(n)[::-1])\n",
    "    count+=1\n",
    "print(f\"{count},{n}\")"
   ]
  },
  {
   "cell_type": "code",
   "execution_count": 2,
   "id": "93bd94e3",
   "metadata": {},
   "outputs": [
    {
     "name": "stdout",
     "output_type": "stream",
     "text": [
      "1 4 9 16 25 36 49\n"
     ]
    }
   ],
   "source": [
    "#W4A9\n",
    "n=int(input())\n",
    "lst=[]\n",
    "for i in range (1,n+1):\n",
    "    if (i**2)<=n:\n",
    "        for k in range(len(str(i))):\n",
    "            if len(set(str(i)))==len(str(i)):\n",
    "                lst.append(str(i**2))\n",
    "print(\" \".join(lst))"
   ]
  },
  {
   "cell_type": "code",
   "execution_count": 6,
   "id": "e27ec0f3",
   "metadata": {},
   "outputs": [
    {
     "name": "stdout",
     "output_type": "stream",
     "text": [
      "9 20\n"
     ]
    }
   ],
   "source": [
    "#W4A10\n",
    "def lenght(k):\n",
    "    lenght=1\n",
    "    while k!=1:\n",
    "        if k%2==0:\n",
    "            k//=2\n",
    "        else:\n",
    "            k=3*k+1\n",
    "        lenght+=1\n",
    "    return lenght\n",
    "n=int(input())\n",
    "max_lenght=0\n",
    "number=1\n",
    "for i in range (1,n+1):\n",
    "    L=lenght(i)\n",
    "    if L>max_lenght or (L==max_lenght and i<number):\n",
    "        max_lenght=L\n",
    "        number=i\n",
    "print(number, max_lenght)   "
   ]
  },
  {
   "cell_type": "code",
   "execution_count": 10,
   "id": "61652391",
   "metadata": {},
   "outputs": [
    {
     "name": "stdout",
     "output_type": "stream",
     "text": [
      "12\n"
     ]
    }
   ],
   "source": [
    "#W4A11\n",
    "n=int(input())\n",
    "lst=[]\n",
    "for i in range (1,n+1):\n",
    "    if n%i==0 and i%2==0:\n",
    "        lst.append(i)\n",
    "print(len(lst))"
   ]
  },
  {
   "cell_type": "code",
   "execution_count": 12,
   "id": "906b7eda",
   "metadata": {},
   "outputs": [
    {
     "name": "stdout",
     "output_type": "stream",
     "text": [
      "1087.0\n"
     ]
    }
   ],
   "source": [
    "#W4A12\n",
    "x=int(input(\"Số tiền gửi ngân hàng:\"))\n",
    "N=int(input(\"Số tháng gửi:\"))\n",
    "T=x*((1+0.007)**N)\n",
    "print(T//1)"
   ]
  },
  {
   "cell_type": "code",
   "execution_count": 15,
   "id": "345935d1",
   "metadata": {},
   "outputs": [
    {
     "name": "stdout",
     "output_type": "stream",
     "text": [
      "True\n"
     ]
    }
   ],
   "source": [
    "#W4A13\n",
    "def tong_uoc(k):\n",
    "    sum=0\n",
    "    for i in range (1,k):\n",
    "        if k%i==0:\n",
    "            sum=sum+i\n",
    "    return sum\n",
    "a,b=map(int, input(\"Nhập hai số:\").split())\n",
    "if tong_uoc(a)==b and tong_uoc(b)==a:\n",
    "    print(\"True\")\n",
    "else:\n",
    "    print(\"False\")"
   ]
  },
  {
   "cell_type": "code",
   "execution_count": 19,
   "id": "dd5f6dc4",
   "metadata": {},
   "outputs": [
    {
     "name": "stdout",
     "output_type": "stream",
     "text": [
      "8\n"
     ]
    }
   ],
   "source": [
    "#W4A14\n",
    "m, n=map(int, input('Nhập hai số:').split())\n",
    "if m>=n:\n",
    "    for i in range (1, m+1):\n",
    "        if m%i==0 and n%i==0:\n",
    "            uoc=i\n",
    "    print(uoc)\n",
    "elif m<n:\n",
    "    for i in range (1, n+1):\n",
    "        if m%i==0 and n%i==0:\n",
    "            uoc=i\n",
    "    print(uoc)"
   ]
  },
  {
   "cell_type": "code",
   "execution_count": 23,
   "id": "b3f43466",
   "metadata": {},
   "outputs": [
    {
     "name": "stdout",
     "output_type": "stream",
     "text": [
      "invalid\n"
     ]
    }
   ],
   "source": [
    "#W4A15\n",
    "socon=int(input(\"Nhập số con:\"))\n",
    "tongchan=int(input(\"Tổng số chân:\"))\n",
    "concho=(tongchan-2*socon)/2\n",
    "conga=socon-concho\n",
    "if concho%1!=0:\n",
    "    print(\"invalid\")\n",
    "else:\n",
    "    print(conga, concho)\n",
    "\n",
    "\n"
   ]
  },
  {
   "cell_type": "code",
   "execution_count": 24,
   "id": "6d89c595",
   "metadata": {},
   "outputs": [
    {
     "name": "stdout",
     "output_type": "stream",
     "text": [
      "[6, 12, 18, 24, 30, 36, 42, 48, 54, 60, 66, 72, 78, 84, 90, 96]\n"
     ]
    }
   ],
   "source": [
    "#W4A16\n",
    "lst=[]\n",
    "for i in range (1,100):\n",
    "    if i%3==0 and i%2==0:\n",
    "        lst.append(i)\n",
    "print(lst)\n"
   ]
  },
  {
   "cell_type": "code",
   "execution_count": 25,
   "id": "32f401b9",
   "metadata": {},
   "outputs": [
    {
     "name": "stdout",
     "output_type": "stream",
     "text": [
      "4 x 1 = 4\n",
      "4 x 2 = 8\n",
      "4 x 3 = 12\n",
      "4 x 4 = 16\n",
      "4 x 5 = 20\n",
      "4 x 6 = 24\n",
      "4 x 7 = 28\n",
      "4 x 8 = 32\n",
      "4 x 9 = 36\n"
     ]
    }
   ],
   "source": [
    "#W4A17\n",
    "n=int(input())\n",
    "for i in range (1, 10):\n",
    "    print(f\"{n} x {i} = {n*i}\")"
   ]
  },
  {
   "cell_type": "code",
   "execution_count": 30,
   "id": "83b717b3",
   "metadata": {},
   "outputs": [
    {
     "name": "stdout",
     "output_type": "stream",
     "text": [
      "[1, 2, 4]\n"
     ]
    }
   ],
   "source": [
    "#W4A18\n",
    "a, b=map(int, input('Nhập hai số a và b:').split())\n",
    "lst=[]\n",
    "if a<b:\n",
    "    for i in range(1, a+1):\n",
    "        if a%i==0 and b%i==0:\n",
    "            lst.append(i)\n",
    "    print(lst)\n",
    "if a>=b:\n",
    "    for i in range(1, b+1):\n",
    "        if a%i==0 and b%i==0:\n",
    "            lst.append(i)\n",
    "    print(lst)"
   ]
  },
  {
   "cell_type": "code",
   "execution_count": 31,
   "id": "21e30f78",
   "metadata": {},
   "outputs": [
    {
     "name": "stdout",
     "output_type": "stream",
     "text": [
      "[2, 4, 6, 8, 10, 12, 14, 16, 18, 20]\n"
     ]
    }
   ],
   "source": [
    "#W4A19\n",
    "n=int(input())\n",
    "lst=[]\n",
    "if n<=1000:\n",
    "    for i in range (1, n+1):\n",
    "        if i<=n and i%2==0:\n",
    "            lst.append(i)\n",
    "    print(lst)\n",
    "\n"
   ]
  },
  {
   "cell_type": "code",
   "execution_count": 36,
   "id": "b3e177fb",
   "metadata": {},
   "outputs": [
    {
     "name": "stdout",
     "output_type": "stream",
     "text": [
      "True\n"
     ]
    }
   ],
   "source": [
    "#W4A20\n",
    "n=int(input())\n",
    "while n%2==0:\n",
    "    n/=2\n",
    "if n==1:\n",
    "    print('True')\n",
    "else:\n",
    "    print('False')"
   ]
  },
  {
   "cell_type": "code",
   "execution_count": 49,
   "id": "b1c05de9",
   "metadata": {},
   "outputs": [
    {
     "name": "stdout",
     "output_type": "stream",
     "text": [
      "16\n"
     ]
    }
   ],
   "source": [
    "#W4A21\n",
    "n=int(input())\n",
    "k=str(n)\n",
    "sum=0\n",
    "for i in range (len(k)):\n",
    "    sum+=int(k[i])\n",
    "print(sum)"
   ]
  },
  {
   "cell_type": "code",
   "execution_count": 56,
   "id": "296ea56d",
   "metadata": {},
   "outputs": [
    {
     "name": "stdout",
     "output_type": "stream",
     "text": [
      "6 2\n"
     ]
    }
   ],
   "source": [
    "#W4A22\n",
    "n=int(input())\n",
    "k=str(n)\n",
    "sochan=0\n",
    "sole=0\n",
    "for i in range (len(k)):\n",
    "    if int(k[i])%2==0:\n",
    "        sochan+=1\n",
    "    else:\n",
    "        sole+=1\n",
    "print(sochan, sole)\n",
    "        \n"
   ]
  },
  {
   "cell_type": "code",
   "execution_count": 65,
   "id": "139d281b",
   "metadata": {},
   "outputs": [
    {
     "name": "stdout",
     "output_type": "stream",
     "text": [
      "5\n"
     ]
    }
   ],
   "source": [
    "#W4A23\n",
    "n=int(input())\n",
    "s=0\n",
    "k=0\n",
    "while True:\n",
    "    if s+(k+1)<n:\n",
    "        k=k+1\n",
    "        s=s+k\n",
    "    else:\n",
    "        break\n",
    "print(k)\n",
    "    \n",
    "    "
   ]
  },
  {
   "cell_type": "code",
   "execution_count": 66,
   "id": "e0b166bb",
   "metadata": {},
   "outputs": [
    {
     "name": "stdout",
     "output_type": "stream",
     "text": [
      "2\n"
     ]
    }
   ],
   "source": [
    "#W4A24\n",
    "A=int(input('Nhập A:'))\n",
    "s=1\n",
    "k=1\n",
    "while s<=A:\n",
    "    k+=1\n",
    "    s+=1/k\n",
    "print(k)"
   ]
  },
  {
   "cell_type": "code",
   "execution_count": 67,
   "id": "0a737246",
   "metadata": {},
   "outputs": [
    {
     "name": "stdout",
     "output_type": "stream",
     "text": [
      "5 9999999\n"
     ]
    }
   ],
   "source": [
    "#W4A25\n",
    "lst=[]\n",
    "while True:\n",
    "    n=int(input())\n",
    "    if n==-1:\n",
    "        break\n",
    "    lst.append(n)\n",
    "print(min(lst), max(lst))\n"
   ]
  },
  {
   "cell_type": "code",
   "execution_count": 76,
   "id": "3c19bec9",
   "metadata": {},
   "outputs": [
    {
     "name": "stdout",
     "output_type": "stream",
     "text": [
      "Số Fibonacci lớn nhất không vượt quá A là: 8\n"
     ]
    }
   ],
   "source": [
    "#W4A26\n",
    "A = int(input(\"Nhập A: \"))\n",
    "\n",
    "x1, x2 = 1, 1\n",
    "\n",
    "while x1 + x2 <= A:\n",
    "    x1, x2 = x2, x1 + x2\n",
    "\n",
    "print(\"Số Fibonacci lớn nhất không vượt quá A là:\", f2)\n"
   ]
  },
  {
   "cell_type": "code",
   "execution_count": 85,
   "id": "67290d41",
   "metadata": {},
   "outputs": [
    {
     "name": "stdout",
     "output_type": "stream",
     "text": [
      "Số từ là: 3\n"
     ]
    }
   ],
   "source": [
    "#W4A27\n",
    "s=input()\n",
    "count=0\n",
    "l=0\n",
    "for i in s:\n",
    "    l+=1\n",
    "for k in range(l):\n",
    "    if s[k]!=' ' and ( k==0 or s[k-1]==' '):\n",
    "        count+=1\n",
    "print('Số từ là:',count)"
   ]
  },
  {
   "cell_type": "code",
   "execution_count": 92,
   "id": "488ddc14",
   "metadata": {},
   "outputs": [
    {
     "name": "stdout",
     "output_type": "stream",
     "text": [
      "tôi\n"
     ]
    }
   ],
   "source": [
    "#W4A28\n",
    "s=input()\n",
    "sn=\"\"\n",
    "l=0\n",
    "k=0\n",
    "for i in s:\n",
    "    l+=1\n",
    "while k<l and s[k]==' ':\n",
    "    k+=1\n",
    "while k<l and s[k]!=' ':\n",
    "    sn=sn+s[k]\n",
    "    k+=1\n",
    "print(sn)\n",
    "    \n",
    "    \n",
    "\n",
    "    "
   ]
  },
  {
   "cell_type": "code",
   "execution_count": 96,
   "id": "61a10dcf",
   "metadata": {},
   "outputs": [
    {
     "name": "stdout",
     "output_type": "stream",
     "text": [
      "22\n"
     ]
    }
   ],
   "source": [
    "#W4A29\n",
    "ba_so_nguyen=input()\n",
    "s=ba_so_nguyen.split()\n",
    "t=int(s[0])+int(s[1])+int(s[2])\n",
    "print(t)"
   ]
  },
  {
   "cell_type": "code",
   "execution_count": 101,
   "id": "8078f010",
   "metadata": {},
   "outputs": [
    {
     "name": "stdout",
     "output_type": "stream",
     "text": [
      "Ký tự số: 2, Ký tự thường: 12, Ký tự in hoa: 2\n"
     ]
    }
   ],
   "source": [
    "#W4A30\n",
    "s=input()\n",
    "so=0\n",
    "inhoa=0\n",
    "inthuong=0\n",
    "for i in range(len(s)):\n",
    "    if s[i].isdigit():\n",
    "        so+=1\n",
    "    elif s[i].isupper():\n",
    "        inhoa+=1\n",
    "    elif s[i].islower():\n",
    "        inthuong+=1\n",
    "print(f\"Ký tự số: {so}, Ký tự thường: {inthuong}, Ký tự in hoa: {inhoa}\")\n"
   ]
  },
  {
   "cell_type": "code",
   "execution_count": 104,
   "id": "6153deee",
   "metadata": {},
   "outputs": [
    {
     "name": "stdout",
     "output_type": "stream",
     "text": [
      "8+8+8+8 = 32\n"
     ]
    }
   ],
   "source": [
    "#W4A31\n",
    "s=input()\n",
    "tong=0\n",
    "lst=[]\n",
    "for i in s:\n",
    "    if i.isdigit():\n",
    "        tong+=int(i)\n",
    "        lst.append(i)\n",
    "pheptinh='+'.join(lst)\n",
    "print(f\"{pheptinh} = {tong}\")\n",
    "\n",
    "\n"
   ]
  },
  {
   "cell_type": "code",
   "execution_count": 105,
   "id": "50626560",
   "metadata": {},
   "outputs": [
    {
     "name": "stdout",
     "output_type": "stream",
     "text": [
      " Mật khẩu mạnh\n"
     ]
    }
   ],
   "source": [
    "#w4A32\n",
    "s = input(\"Nhập mật khẩu: \")\n",
    "\n",
    "co_hoa = False\n",
    "co_thuong = False\n",
    "co_so = False\n",
    "co_dac_biet = False\n",
    "\n",
    "for ch in s:\n",
    "    if ch.isupper():\n",
    "        co_hoa = True\n",
    "    elif ch.islower():\n",
    "        co_thuong = True\n",
    "    elif ch.isdigit():\n",
    "        co_so = True\n",
    "    else:\n",
    "        co_dac_biet = True\n",
    "\n",
    "if len(s) > 6 and co_hoa and co_thuong and co_so and co_dac_biet:\n",
    "    print(\" Mật khẩu mạnh\")\n",
    "else:\n",
    "    print(\" Mật khẩu yếu\")"
   ]
  },
  {
   "cell_type": "code",
   "execution_count": 1,
   "id": "b32a710e",
   "metadata": {},
   "outputs": [
    {
     "name": "stdout",
     "output_type": "stream",
     "text": [
      "888.888\n"
     ]
    }
   ],
   "source": [
    "n = int(input(\"Nhập số nguyên: \"))\n",
    "s = str(n)\n",
    "s = s[::-1]\n",
    "kq = \"\"\n",
    "\n",
    "for i in range(len(s)):\n",
    "    if i > 0 and i % 3 == 0:\n",
    "        kq += \".\"\n",
    "    kq += s[i]\n",
    "\n",
    "s_phan_tach = kq[::-1]\n",
    "print(s_phan_tach)  "
   ]
  },
  {
   "cell_type": "code",
   "execution_count": 2,
   "id": "431cc28c",
   "metadata": {},
   "outputs": [
    {
     "name": "stdout",
     "output_type": "stream",
     "text": [
      "Kết quả: xin\n"
     ]
    }
   ],
   "source": [
    "#W4A34\n",
    "a = input(\"Nhập chuỗi a: \")\n",
    "b = input(\"Nhập chuỗi b: \")\n",
    "\n",
    "k = 0\n",
    "while k <= len(a) - len(b):\n",
    "    if a[k:k+len(b)] == b:\n",
    "        a = a[:k] + a[k+len(b):]\n",
    "    else:\n",
    "         k += 1 \n",
    "print(\"Kết quả:\", a)\n",
    "\n"
   ]
  }
 ],
 "metadata": {
  "kernelspec": {
   "display_name": "Python 3",
   "language": "python",
   "name": "python3"
  },
  "language_info": {
   "codemirror_mode": {
    "name": "ipython",
    "version": 3
   },
   "file_extension": ".py",
   "mimetype": "text/x-python",
   "name": "python",
   "nbconvert_exporter": "python",
   "pygments_lexer": "ipython3",
   "version": "3.13.7"
  }
 },
 "nbformat": 4,
 "nbformat_minor": 5
}
